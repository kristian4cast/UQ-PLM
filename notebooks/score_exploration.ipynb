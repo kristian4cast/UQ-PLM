{
 "cells": [
  {
   "cell_type": "code",
   "execution_count": null,
   "metadata": {},
   "outputs": [],
   "source": [
    "# allows update of external libraries without need to reload package\n",
    "%load_ext autoreload\n",
    "%autoreload 2"
   ]
  },
  {
   "cell_type": "code",
   "execution_count": null,
   "metadata": {},
   "outputs": [],
   "source": [
    "import pickle\n",
    "import matplotlib.pyplot as plt\n",
    "import pickle\n",
    "import pathlib\n",
    "import numpy as np\n",
    "import warnings\n",
    "\n",
    "import sklearn.metrics\n",
    "import scipy.stats"
   ]
  },
  {
   "cell_type": "code",
   "execution_count": null,
   "metadata": {},
   "outputs": [],
   "source": [
    "FOLDER_RESULTS = pathlib.Path(\"../Result/Task1/electra_base-fl/\")"
   ]
  },
  {
   "cell_type": "code",
   "execution_count": null,
   "metadata": {},
   "outputs": [],
   "source": [
    "with open(FOLDER_RESULTS / r\"result_prob.pkl\", \"rb\") as input_file:\n",
    "    probabilities = pickle.load(input_file)\n",
    "\n",
    "with open(FOLDER_RESULTS / r\"result_score.pkl\", \"rb\") as input_file:\n",
    "    scores = pickle.load(input_file)"
   ]
  },
  {
   "cell_type": "code",
   "execution_count": null,
   "metadata": {},
   "outputs": [],
   "source": [
    "probabilities[1].keys()"
   ]
  },
  {
   "cell_type": "code",
   "execution_count": null,
   "metadata": {},
   "outputs": [],
   "source": []
  },
  {
   "cell_type": "code",
   "execution_count": null,
   "metadata": {},
   "outputs": [],
   "source": [
    "def _compute_mean_accuracy(binnumber, labels, predictions, n_bins=10):\n",
    "    mean_accuray = np.full(n_bins + 2, np.nan)\n",
    "    for i_bin in range(n_bins + 2):\n",
    "        mask = binnumber == i_bin\n",
    "        mean_accuray[i_bin] = sklearn.metrics.accuracy_score(labels[mask], predictions[mask])\n",
    "    return mean_accuray[slice(1,-1)]\n",
    "    \n",
    "def _compute_mean_and_standard_deviation(values):\n",
    "    mean = np.mean(values)\n",
    "    standard_deviation = np.sqrt(np.sum((values-mean)**2)/len(values))\n",
    "    return mean, standard_deviation\n",
    "\n",
    "\n",
    "def _get_ece(confidence, labels, predictions, n_bins=10):\n",
    "    with warnings.catch_warnings():\n",
    "        warnings.simplefilter(\"ignore\", category=RuntimeWarning)\n",
    "        bins = get_bins(n_bins=n_bins)\n",
    "        confidence_mean = _compute_confidence_mean(confidence, bins)\n",
    "        n_per_bin, _, binnumber = get_counts_edges_binnumber(confidence, bins)\n",
    "        accuracy_mean = _compute_mean_accuracy(binnumber, labels, predictions, n_bins=n_bins)    \n",
    "        number_samples = _get_total_number_samples(n_per_bin)\n",
    "        check_number_samples(labels, number_samples)\n",
    "        ece = _compute_ece(confidence_mean, n_per_bin, accuracy_mean, number_samples)\n",
    "    return ece\n",
    "\n",
    "def _compute_ece(confidence_mean, n_per_bin, accuracy_mean, number_samples):\n",
    "    return np.nansum(n_per_bin*np.abs(accuracy_mean-confidence_mean))/number_samples\n",
    "\n",
    "def check_number_samples(labels, number_samples):\n",
    "    if number_samples != np.shape(labels)[0]:\n",
    "        raise ValueError(f\"{number_samples=} != {np.shape(labels)[0]}\")\n",
    "\n",
    "def _get_total_number_samples(n_per_bin):\n",
    "    return np.nansum(n_per_bin)\n",
    "\n",
    "def get_counts_edges_binnumber(confidence, bins):\n",
    "    return scipy.stats.binned_statistic(confidence, np.ones_like(confidence), statistic=\"count\", bins=bins)\n",
    "\n",
    "def _compute_confidence_mean(confidence, bins):\n",
    "    confidence_mean, bin_edges, binnumber = scipy.stats.binned_statistic(confidence, confidence, statistic=\"mean\", bins=bins)\n",
    "    return confidence_mean\n",
    "\n",
    "def get_bins(n_bins):\n",
    "    return np.linspace(0, 1, n_bins + 1)\n",
    "\n",
    "def get_confidence(probabilities, predictions):\n",
    "    confidence = np.zeros_like(probabilities[:, 0])\n",
    "    for i_row, (pred, prob) in enumerate(zip(predictions, probabilities)):\n",
    "        confidence[i_row] = prob[pred]\n",
    "    return confidence\n",
    "\n",
    "    \n",
    "def compute_ece(labels, prediction_probabilities):\n",
    "    ece = np.zeros(np.shape(prediction_probabilities)[0])\n",
    "    for i_run in range(len(prediction_probabilities)):\n",
    "        probabilities_run = prediction_probabilities[i_run]\n",
    "        predictions_run = np.argmax(probabilities_run, axis=1)\n",
    "        confidence_run = get_confidence(probabilities_run, predictions_run)\n",
    "        ece_run = _get_ece(confidence=confidence_run, labels=labels, predictions=predictions_run)\n",
    "        ece[i_run] = ece_run\n",
    "    print(f\"{ece=}\")\n",
    "    mean, standard_deviation = _compute_mean_and_standard_deviation(ece)\n",
    "    return mean, standard_deviation"
   ]
  },
  {
   "cell_type": "code",
   "execution_count": null,
   "metadata": {},
   "outputs": [],
   "source": [
    "for model_config in probabilities[1].keys():\n",
    "    print(f\"{model_config}\")\n",
    "    prediction_probabilities = np.array(probabilities[1][model_config])\n",
    "    labels = np.array(probabilities[0]['test_in'])\n",
    "    mean, standard_deviation = compute_ece(labels, prediction_probabilities)\n",
    "    print(f\"{mean=}, {standard_deviation=}\")"
   ]
  },
  {
   "cell_type": "code",
   "execution_count": null,
   "metadata": {},
   "outputs": [],
   "source": []
  }
 ],
 "metadata": {
  "kernelspec": {
   "display_name": "uq-plm",
   "language": "python",
   "name": "python3"
  },
  "language_info": {
   "codemirror_mode": {
    "name": "ipython",
    "version": 3
   },
   "file_extension": ".py",
   "mimetype": "text/x-python",
   "name": "python",
   "nbconvert_exporter": "python",
   "pygments_lexer": "ipython3",
   "version": "3.10.8"
  },
  "vscode": {
   "interpreter": {
    "hash": "eeb2ef91a56ec9e4022b88f98e0a0357679466a3bcdfd15b30fc4cc0db54f867"
   }
  }
 },
 "nbformat": 4,
 "nbformat_minor": 2
}
