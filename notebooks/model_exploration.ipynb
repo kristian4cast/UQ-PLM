{
 "cells": [
  {
   "cell_type": "code",
   "execution_count": 1,
   "id": "f9df62f4-1243-46c0-9eef-e0c0e0b248f4",
   "metadata": {},
   "outputs": [],
   "source": [
    "# allows update of external libraries without need to reload package\n",
    "%load_ext autoreload\n",
    "%autoreload 2"
   ]
  },
  {
   "cell_type": "code",
   "execution_count": 6,
   "id": "1e174881-1a4f-4761-904b-03c1d2db261e",
   "metadata": {},
   "outputs": [
    {
     "name": "stdout",
     "output_type": "stream",
     "text": [
      "/usr/local/bin/pip\n"
     ]
    }
   ],
   "source": [
    "!which pip"
   ]
  },
  {
   "cell_type": "code",
   "execution_count": 3,
   "id": "7eb0565a-3f16-40a0-bf5d-ebc3078df580",
   "metadata": {},
   "outputs": [
    {
     "name": "stdout",
     "output_type": "stream",
     "text": [
      "Defaulting to user installation because normal site-packages is not writeable\n",
      "Collecting bayesian_torch\n",
      "  Using cached bayesian_torch-0.3.0-py3-none-any.whl (48 kB)\n",
      "Requirement already satisfied: torch>=1.7.0 in /usr/local/lib/python3.10/dist-packages (from bayesian_torch) (1.13.1)\n",
      "Requirement already satisfied: tensorboard>=1.15.0 in /usr/local/lib/python3.10/dist-packages (from bayesian_torch) (2.11.0)\n",
      "Requirement already satisfied: scikit-learn>=0.20.3 in /usr/local/lib/python3.10/dist-packages (from bayesian_torch) (1.2.0)\n",
      "Collecting torchvision>=0.8.1\n",
      "  Using cached torchvision-0.14.1-cp310-cp310-manylinux1_x86_64.whl (24.2 MB)\n",
      "Requirement already satisfied: threadpoolctl>=2.0.0 in /usr/local/lib/python3.10/dist-packages (from scikit-learn>=0.20.3->bayesian_torch) (3.1.0)\n",
      "Requirement already satisfied: numpy>=1.17.3 in /usr/local/lib/python3.10/dist-packages (from scikit-learn>=0.20.3->bayesian_torch) (1.24.0)\n",
      "Requirement already satisfied: scipy>=1.3.2 in /usr/local/lib/python3.10/dist-packages (from scikit-learn>=0.20.3->bayesian_torch) (1.9.3)\n",
      "Requirement already satisfied: joblib>=1.1.1 in /usr/local/lib/python3.10/dist-packages (from scikit-learn>=0.20.3->bayesian_torch) (1.2.0)\n",
      "Requirement already satisfied: tensorboard-data-server<0.7.0,>=0.6.0 in /usr/local/lib/python3.10/dist-packages (from tensorboard>=1.15.0->bayesian_torch) (0.6.1)\n",
      "Requirement already satisfied: protobuf<4,>=3.9.2 in /usr/local/lib/python3.10/dist-packages (from tensorboard>=1.15.0->bayesian_torch) (3.20.3)\n",
      "Requirement already satisfied: google-auth-oauthlib<0.5,>=0.4.1 in /usr/local/lib/python3.10/dist-packages (from tensorboard>=1.15.0->bayesian_torch) (0.4.6)\n",
      "Requirement already satisfied: absl-py>=0.4 in /usr/local/lib/python3.10/dist-packages (from tensorboard>=1.15.0->bayesian_torch) (1.3.0)\n",
      "Requirement already satisfied: google-auth<3,>=1.6.3 in /usr/local/lib/python3.10/dist-packages (from tensorboard>=1.15.0->bayesian_torch) (2.15.0)\n",
      "Requirement already satisfied: setuptools>=41.0.0 in /usr/local/lib/python3.10/dist-packages (from tensorboard>=1.15.0->bayesian_torch) (65.6.3)\n",
      "Requirement already satisfied: tensorboard-plugin-wit>=1.6.0 in /usr/local/lib/python3.10/dist-packages (from tensorboard>=1.15.0->bayesian_torch) (1.8.1)\n",
      "Requirement already satisfied: markdown>=2.6.8 in /usr/local/lib/python3.10/dist-packages (from tensorboard>=1.15.0->bayesian_torch) (3.4.1)\n",
      "Requirement already satisfied: requests<3,>=2.21.0 in /usr/local/lib/python3.10/dist-packages (from tensorboard>=1.15.0->bayesian_torch) (2.28.1)\n",
      "Requirement already satisfied: grpcio>=1.24.3 in /usr/local/lib/python3.10/dist-packages (from tensorboard>=1.15.0->bayesian_torch) (1.51.1)\n",
      "Requirement already satisfied: wheel>=0.26 in /usr/local/lib/python3.10/dist-packages (from tensorboard>=1.15.0->bayesian_torch) (0.38.4)\n",
      "Requirement already satisfied: werkzeug>=1.0.1 in /usr/local/lib/python3.10/dist-packages (from tensorboard>=1.15.0->bayesian_torch) (2.2.2)\n",
      "Requirement already satisfied: typing-extensions in /usr/local/lib/python3.10/dist-packages (from torch>=1.7.0->bayesian_torch) (4.4.0)\n",
      "Requirement already satisfied: nvidia-cuda-nvrtc-cu11==11.7.99 in /usr/local/lib/python3.10/dist-packages (from torch>=1.7.0->bayesian_torch) (11.7.99)\n",
      "Requirement already satisfied: nvidia-cuda-runtime-cu11==11.7.99 in /usr/local/lib/python3.10/dist-packages (from torch>=1.7.0->bayesian_torch) (11.7.99)\n",
      "Requirement already satisfied: nvidia-cudnn-cu11==8.5.0.96 in /usr/local/lib/python3.10/dist-packages (from torch>=1.7.0->bayesian_torch) (8.5.0.96)\n",
      "Requirement already satisfied: nvidia-cublas-cu11==11.10.3.66 in /usr/local/lib/python3.10/dist-packages (from torch>=1.7.0->bayesian_torch) (11.10.3.66)\n",
      "Requirement already satisfied: pillow!=8.3.*,>=5.3.0 in /usr/local/lib/python3.10/dist-packages (from torchvision>=0.8.1->bayesian_torch) (9.3.0)\n",
      "Requirement already satisfied: rsa<5,>=3.1.4 in /usr/local/lib/python3.10/dist-packages (from google-auth<3,>=1.6.3->tensorboard>=1.15.0->bayesian_torch) (4.9)\n",
      "Requirement already satisfied: cachetools<6.0,>=2.0.0 in /usr/local/lib/python3.10/dist-packages (from google-auth<3,>=1.6.3->tensorboard>=1.15.0->bayesian_torch) (5.2.0)\n",
      "Requirement already satisfied: six>=1.9.0 in /usr/local/lib/python3.10/dist-packages (from google-auth<3,>=1.6.3->tensorboard>=1.15.0->bayesian_torch) (1.16.0)\n",
      "Requirement already satisfied: pyasn1-modules>=0.2.1 in /usr/local/lib/python3.10/dist-packages (from google-auth<3,>=1.6.3->tensorboard>=1.15.0->bayesian_torch) (0.2.8)\n",
      "Requirement already satisfied: requests-oauthlib>=0.7.0 in /usr/local/lib/python3.10/dist-packages (from google-auth-oauthlib<0.5,>=0.4.1->tensorboard>=1.15.0->bayesian_torch) (1.3.1)\n",
      "Requirement already satisfied: charset-normalizer<3,>=2 in /usr/local/lib/python3.10/dist-packages (from requests<3,>=2.21.0->tensorboard>=1.15.0->bayesian_torch) (2.1.1)\n",
      "Requirement already satisfied: idna<4,>=2.5 in /usr/local/lib/python3.10/dist-packages (from requests<3,>=2.21.0->tensorboard>=1.15.0->bayesian_torch) (3.4)\n",
      "Requirement already satisfied: certifi>=2017.4.17 in /usr/local/lib/python3.10/dist-packages (from requests<3,>=2.21.0->tensorboard>=1.15.0->bayesian_torch) (2022.12.7)\n",
      "Requirement already satisfied: urllib3<1.27,>=1.21.1 in /usr/local/lib/python3.10/dist-packages (from requests<3,>=2.21.0->tensorboard>=1.15.0->bayesian_torch) (1.26.13)\n",
      "Requirement already satisfied: MarkupSafe>=2.1.1 in /usr/local/lib/python3.10/dist-packages (from werkzeug>=1.0.1->tensorboard>=1.15.0->bayesian_torch) (2.1.1)\n",
      "Requirement already satisfied: pyasn1<0.5.0,>=0.4.6 in /usr/local/lib/python3.10/dist-packages (from pyasn1-modules>=0.2.1->google-auth<3,>=1.6.3->tensorboard>=1.15.0->bayesian_torch) (0.4.8)\n",
      "Requirement already satisfied: oauthlib>=3.0.0 in /usr/local/lib/python3.10/dist-packages (from requests-oauthlib>=0.7.0->google-auth-oauthlib<0.5,>=0.4.1->tensorboard>=1.15.0->bayesian_torch) (3.2.2)\n",
      "Installing collected packages: torchvision, bayesian_torch\n",
      "Successfully installed bayesian_torch-0.3.0 torchvision-0.14.1\n"
     ]
    }
   ],
   "source": [
    "!pip install bayesian_torch"
   ]
  },
  {
   "cell_type": "code",
   "execution_count": 108,
   "id": "c55fcc00-d263-42c9-99e1-8fa8863eb59e",
   "metadata": {},
   "outputs": [
    {
     "name": "stdout",
     "output_type": "stream",
     "text": [
      "\u001b[0m\u001b[01;34m__pycache__\u001b[0m/     \u001b[01;32mrun_juwels.sh\u001b[0m*   submit_dev.sh        test.py\n",
      "info.py          \u001b[01;32mrun_juwels.sh~\u001b[0m*  submit_dev.sh~       train.py\n",
      "\u001b[01;34mlogs\u001b[0m/            \u001b[01;32mrun_test.sh\u001b[0m*     submit_evaluate.sh   util.py\n",
      "model.py         \u001b[01;32mrun_test.sh~\u001b[0m*    submit_evaluate.sh~\n",
      "model_sto_0.pkl  submit.sh        submit_test.sh\n",
      "run.sh           submit.sh~       submit_test.sh~\n"
     ]
    }
   ],
   "source": [
    "ls $FOLDER_UQ_PLM/\"Code\""
   ]
  },
  {
   "cell_type": "code",
   "execution_count": 113,
   "id": "6a5d95fa-e5ab-4196-ad53-d532c847a0ec",
   "metadata": {},
   "outputs": [],
   "source": [
    "import sys\n",
    "import pickle\n",
    "import matplotlib.pyplot as plt\n",
    "import pickle\n",
    "import pathlib\n",
    "import collections\n",
    "import os\n",
    "import importlib\n",
    "\n",
    "def load_module_by_path(file_path, module_name, module_alias):    \n",
    "    spec = importlib.util.spec_from_file_location(module_name, file_path)\n",
    "    module = importlib.util.module_from_spec(spec)\n",
    "    sys.modules[module_alias] = module\n",
    "    spec.loader.exec_module(module)\n",
    "\n",
    "import numpy as np\n",
    "import warnings\n",
    "import dataclasses\n",
    "import sklearn.metrics\n",
    "import scipy.stats\n",
    "import torch.nn.functional\n",
    "FOLDER_UQ_PLM = pathlib.Path(\"/p/project/deepacf/maelstrom/ehlert1/UQ-PLM/\")\n",
    "sys.path.append(FOLDER_UQ_PLM / \"Code/\")\n",
    "import model, util\n",
    "load_module_by_path(FOLDER_UQ_PLM / \"Code/test.py\", \"test\", \"test_uqplm\")\n",
    "import info as info_package"
   ]
  },
  {
   "cell_type": "code",
   "execution_count": 116,
   "id": "2c18b04a-ac08-4083-bf20-83ef204eca1c",
   "metadata": {},
   "outputs": [],
   "source": [
    "import test_uqplm"
   ]
  },
  {
   "cell_type": "code",
   "execution_count": 59,
   "id": "12a2bfda-2509-4b16-ac28-8ce20014f9fd",
   "metadata": {},
   "outputs": [],
   "source": [
    "os.environ[\"FOLDER_UQPLM_DATA\"]=\"/p/scratch/deepacf/maelstrom/maelstrom_data/ap2/data/UQ-PLM/\""
   ]
  },
  {
   "cell_type": "code",
   "execution_count": 28,
   "id": "a867a3be-5ce6-4a37-97ff-3ff3274e00bf",
   "metadata": {},
   "outputs": [],
   "source": [
    "FOLDER_RESULTS = FOLDER_UQ_PLM / \"Result/Task4/electra_base-fl/\""
   ]
  },
  {
   "cell_type": "code",
   "execution_count": 29,
   "id": "f175e160-935c-4a50-94ca-bb498b598407",
   "metadata": {},
   "outputs": [],
   "source": [
    "def load_pickle(filename):\n",
    "    with open(filename, \"rb\") as input_file:\n",
    "        return pickle.load(input_file)"
   ]
  },
  {
   "cell_type": "code",
   "execution_count": 31,
   "id": "082a17d8-6dee-442d-8b4a-b412edae994a",
   "metadata": {},
   "outputs": [],
   "source": [
    "model = load_pickle(FOLDER_RESULTS / r\"model_det_0.pkl\")"
   ]
  },
  {
   "cell_type": "code",
   "execution_count": 98,
   "id": "3175a7a7-edf2-494e-9195-10684b5d1111",
   "metadata": {},
   "outputs": [],
   "source": [
    "os.chdir(\"/p/project/deepacf/maelstrom/ehlert1/UQ-PLM/notebooks\")"
   ]
  },
  {
   "cell_type": "code",
   "execution_count": 99,
   "id": "ac6e455a-7936-47cb-91c9-4a74a96f1ec6",
   "metadata": {},
   "outputs": [],
   "source": [
    "@dataclasses.dataclass\n",
    "class Args:\n",
    "    task_id: str\n",
    "    model_name: str\n",
    "    stage: str\n",
    "\n",
    "args = Args(task_id=\"Task4\", model_name=\"electra_base-fl\", stage=\"test\")\n",
    "info = info_package.Info(args)\n",
    "inputs_list = util.load(args, info, args.stage)\n",
    "all_labels, all_probs, all_scores = {}, collections.defaultdict(list), collections.defaultdict(list)\n"
   ]
  },
  {
   "cell_type": "code",
   "execution_count": 100,
   "id": "96492fd8-0b2c-4a74-b165-4cc87ca1999a",
   "metadata": {},
   "outputs": [
    {
     "data": {
      "text/plain": [
       "'/p/project/deepacf/maelstrom/ehlert1/UQ-PLM/notebooks/../Result/Task4/electra_base-fl'"
      ]
     },
     "execution_count": 100,
     "metadata": {},
     "output_type": "execute_result"
    }
   ],
   "source": [
    "info.DIR_OUTPUT"
   ]
  },
  {
   "cell_type": "code",
   "execution_count": null,
   "id": "cba91547-3aea-4d23-8f74-38a7089dbd67",
   "metadata": {},
   "outputs": [
    {
     "name": "stdout",
     "output_type": "stream",
     "text": [
      "Load det Model 0\n",
      "--------------------\n",
      "Uncertainty for test_in Data via det Model 0 and Vanilla\n",
      "Uncertainty for test_out Data via det Model 0 and Vanilla\n",
      "--------------------\n",
      "Load det Model 1\n",
      "--------------------\n",
      "Uncertainty for test_in Data via det Model 1 and Vanilla\n",
      "Uncertainty for test_out Data via det Model 1 and Vanilla\n",
      "--------------------\n",
      "Load det Model 2\n",
      "--------------------\n",
      "Uncertainty for test_in Data via det Model 2 and Vanilla\n",
      "Uncertainty for test_out Data via det Model 2 and Vanilla\n",
      "--------------------\n",
      "Load det Model 3\n",
      "--------------------\n",
      "Uncertainty for test_in Data via det Model 3 and Vanilla\n",
      "Uncertainty for test_out Data via det Model 3 and Vanilla\n"
     ]
    }
   ],
   "source": [
    "def myprint(to_print, mode):\n",
    "    print(to_print)\n",
    "\n",
    "for model_id, model_file in enumerate(info.FILE_MODELS[info.VERSION_DET]):\n",
    "        myprint(f'Load {info.VERSION_DET} Model {model_id}', info.FILE_STDOUT)\n",
    "        model = pickle.load(open(model_file, 'rb')).to(info.DEVICE_GPU)\n",
    "        myprint('-'*20, info.FILE_STDOUT)\n",
    "        \n",
    "        in_confs = None; vanilla_logits = {}\n",
    "        for type, inputs in zip(info.TYPE_TESTS, inputs_list[1:]):\n",
    "            myprint(f'Uncertainty for {type} Data via {info.VERSION_DET} Model {model_id} and {info.METHOD_VANILLA}', info.FILE_STDOUT)\n",
    "            each_logits, each_labels = test_uqplm.process(info, info.METHOD_VANILLA, inputs, model, if_eval=True, num_mc=1)\n",
    "            each_probs = torch.nn.functional.softmax(each_logits, dim=-1); vanilla_logits[type] = each_logits\n",
    "            each_confs, each_scores = test_uqplm.evaluate(args, info, type, each_probs, each_labels, in_confs=in_confs)\n",
    "            test_uqplm.feed(info, type, info.METHOD_VANILLA, all_labels, all_probs, all_scores, each_labels, each_probs, each_scores)\n",
    "            if type == info.TYPE_TEST_IN: in_confs = each_confs\n",
    "        myprint('-'*20, info.FILE_STDOUT)"
   ]
  },
  {
   "cell_type": "code",
   "execution_count": null,
   "id": "c0aebc1d-9404-4bfd-8bd6-f1c06da33615",
   "metadata": {},
   "outputs": [],
   "source": []
  }
 ],
 "metadata": {
  "kernelspec": {
   "display_name": "a2",
   "language": "python",
   "name": "a2"
  },
  "language_info": {
   "codemirror_mode": {
    "name": "ipython",
    "version": 3
   },
   "file_extension": ".py",
   "mimetype": "text/x-python",
   "name": "python",
   "nbconvert_exporter": "python",
   "pygments_lexer": "ipython3",
   "version": "3.10.6"
  }
 },
 "nbformat": 4,
 "nbformat_minor": 5
}
