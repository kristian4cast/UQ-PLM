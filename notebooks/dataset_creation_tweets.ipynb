{
 "cells": [
  {
   "cell_type": "code",
   "execution_count": 1,
   "metadata": {},
   "outputs": [],
   "source": [
    "# allows update of external libraries without need to reload package\n",
    "%load_ext autoreload\n",
    "%autoreload 2"
   ]
  },
  {
   "cell_type": "code",
   "execution_count": 2,
   "metadata": {},
   "outputs": [],
   "source": [
    "import os\n",
    "import pickle\n",
    "import matplotlib.pyplot as plt\n",
    "import pathlib\n",
    "import numpy as np\n",
    "import warnings\n",
    "import xarray\n",
    "\n",
    "import sklearn.metrics\n",
    "import sklearn.model_selection\n",
    "import scipy.stats"
   ]
  },
  {
   "cell_type": "code",
   "execution_count": 3,
   "metadata": {},
   "outputs": [],
   "source": [
    "FOLDER_DATA = pathlib.Path(\"../Data/Task1/Original/\")\n",
    "FILE_TWEETS = \"/home/kristian/Projects/a2/data/tweets/2020_tweets_rain_sun_vocab_emojis_locations_bba_Tp_era5_no_bots_normalized_filtered.nc\"\n",
    "FILE_TWEETS = \"/p/scratch/deepacf/maelstrom/maelstrom_data/ap2/data/tweets/2017_2020_tweets_rain_sun_vocab_emojis_locations_bba_Tp_era5_no_bots_normalized_filtered_weather_stations_fix_predicted_simpledeberta_radar.nc\"\n",
    "FOLDER_TWEETS_MODEL_DATA = pathlib.Path(\"/p/scratch/deepacf/maelstrom/maelstrom_data/ap2/data/UQ-PLM//Task5/Original/\")"
   ]
  },
  {
   "cell_type": "code",
   "execution_count": 4,
   "metadata": {},
   "outputs": [],
   "source": [
    "!mkdir -p $FOLDER_TWEETS_MODEL_DATA"
   ]
  },
  {
   "cell_type": "code",
   "execution_count": null,
   "metadata": {},
   "outputs": [],
   "source": [
    "!cp /p/scratch/deepacf/maelstrom/maelstrom_data/ap2/data/UQ-PLM//Task1/Original/test_out.pkl $FOLDER_TWEETS_MODEL_DATA"
   ]
  },
  {
   "cell_type": "code",
   "execution_count": 15,
   "metadata": {},
   "outputs": [],
   "source": [
    "def load_pickle(filename):\n",
    "    with open(filename, \"rb\") as input_file:\n",
    "        return pickle.load(input_file)  "
   ]
  },
  {
   "cell_type": "code",
   "execution_count": null,
   "metadata": {},
   "outputs": [],
   "source": [
    "for filename in os.listdir(FOLDER_DATA):\n",
    "    data = load_pickle(filename=FOLDER_DATA / filename)\n",
    "    print(f\"{filename=}\\n{data[0]}\\n{data[-1]}\")\n",
    "type(data)"
   ]
  },
  {
   "cell_type": "code",
   "execution_count": 16,
   "metadata": {},
   "outputs": [],
   "source": [
    "tweets = xarray.load_dataset(FILE_TWEETS)"
   ]
  },
  {
   "cell_type": "code",
   "execution_count": 21,
   "metadata": {},
   "outputs": [
    {
     "data": {
      "text/plain": [
       "(array(['still got my lightning ar that is it tho',\n",
       "        'Another lap around the sun. Good work people.',\n",
       "        'Happy sun with face sun with face sun with face', ...,\n",
       "        'It is the reverse of being draped over a sun lounger',\n",
       "        'A very picturesque light dusting of snow plus is creating a thrilling atmosphere. I am in bed, cozy under my duvet with dogs on top of the duvet.',\n",
       "        'This is the most surreal NYE that I have ever known. Not a car track in the snow at nearly'],\n",
       "       dtype=object),\n",
       " (1218609,))"
      ]
     },
     "execution_count": 21,
     "metadata": {},
     "output_type": "execute_result"
    }
   ],
   "source": [
    "tweets.text_normalized.values, tweets.text_normalized.values.shape"
   ]
  },
  {
   "cell_type": "code",
   "execution_count": 18,
   "metadata": {},
   "outputs": [
    {
     "data": {
      "text/plain": [
       "True"
      ]
     },
     "execution_count": 18,
     "metadata": {},
     "output_type": "execute_result"
    }
   ],
   "source": [
    "np.all([x==y for x, y in zip(tweets.tp_h.values>1e-6, tweets.raining.values)])"
   ]
  },
  {
   "cell_type": "code",
   "execution_count": 19,
   "metadata": {},
   "outputs": [],
   "source": [
    "def save_pickle(filename, to_save):\n",
    "    os.makedirs(filename.parent, exist_ok=True)\n",
    "    with open(filename, 'wb') as handle:\n",
    "        pickle.dump(to_save, handle)\n"
   ]
  },
  {
   "cell_type": "code",
   "execution_count": 20,
   "metadata": {},
   "outputs": [],
   "source": [
    "X = tweets.text_normalized.values\n",
    "y = tweets.raining.values"
   ]
  },
  {
   "cell_type": "code",
   "execution_count": 22,
   "metadata": {},
   "outputs": [],
   "source": [
    "indices_train, indices_test_dev = sklearn.model_selection.train_test_split(\n",
    "    np.arange(tweets[\"index\"].shape[0]),\n",
    "    test_size=0.4,\n",
    "    random_state=42,\n",
    "    shuffle=True,\n",
    "    stratify=tweets.raining.values,\n",
    ")\n",
    "\n",
    "indices_dev, indices_test = sklearn.model_selection.train_test_split(\n",
    "    indices_test_dev,\n",
    "    test_size=0.5,\n",
    "    random_state=42,\n",
    "    shuffle=True,\n",
    "    stratify=tweets.raining.values[indices_test_dev],\n",
    ")\n"
   ]
  },
  {
   "cell_type": "code",
   "execution_count": 25,
   "metadata": {},
   "outputs": [],
   "source": [
    "def convert_features_labels_to_list(features, labels):\n",
    "    return [[f, l] for f, l in zip(features, labels)]\n",
    "    \n",
    "    \n",
    "for indices, filename in zip([indices_train, indices_dev, indices_test], ['train.pkl', 'dev.pkl', 'test_in.pkl']):\n",
    "    save_pickle(FOLDER_TWEETS_MODEL_DATA / filename, convert_features_labels_to_list(X[indices], y[indices]))"
   ]
  },
  {
   "cell_type": "code",
   "execution_count": 27,
   "metadata": {},
   "outputs": [
    {
     "data": {
      "text/plain": [
       "(1218609,)"
      ]
     },
     "execution_count": 27,
     "metadata": {},
     "output_type": "execute_result"
    }
   ],
   "source": [
    "X.shape"
   ]
  },
  {
   "cell_type": "code",
   "execution_count": null,
   "metadata": {},
   "outputs": [],
   "source": []
  }
 ],
 "metadata": {
  "kernelspec": {
   "display_name": "Python 3",
   "language": "python",
   "name": "python3"
  },
  "language_info": {
   "codemirror_mode": {
    "name": "ipython",
    "version": 3
   },
   "file_extension": ".py",
   "mimetype": "text/x-python",
   "name": "python",
   "nbconvert_exporter": "python",
   "pygments_lexer": "ipython3",
   "version": "3.9.6"
  },
  "vscode": {
   "interpreter": {
    "hash": "eeb2ef91a56ec9e4022b88f98e0a0357679466a3bcdfd15b30fc4cc0db54f867"
   }
  }
 },
 "nbformat": 4,
 "nbformat_minor": 4
}
